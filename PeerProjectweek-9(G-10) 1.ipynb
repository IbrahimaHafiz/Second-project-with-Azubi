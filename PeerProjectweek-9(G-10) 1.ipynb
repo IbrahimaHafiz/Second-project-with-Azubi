{
 "cells": [
  {
   "cell_type": "code",
   "execution_count": 15,
   "id": "1d4aab6a",
   "metadata": {},
   "outputs": [],
   "source": [
    "import pandas as pd\n",
    "nyc_violations_df=pd.read_csv(r'H:/AZUBI/dataset/data 2.csv',usecols=['Plate ID','Registration State','Vehicle Make','Vehicle Color',\n",
    "                                       'Violation Time','Street Name'])"
   ]
  },
  {
   "cell_type": "code",
   "execution_count": 16,
   "id": "ddd6bc19",
   "metadata": {},
   "outputs": [
    {
     "data": {
      "text/html": [
       "<div>\n",
       "<style scoped>\n",
       "    .dataframe tbody tr th:only-of-type {\n",
       "        vertical-align: middle;\n",
       "    }\n",
       "\n",
       "    .dataframe tbody tr th {\n",
       "        vertical-align: top;\n",
       "    }\n",
       "\n",
       "    .dataframe thead th {\n",
       "        text-align: right;\n",
       "    }\n",
       "</style>\n",
       "<table border=\"1\" class=\"dataframe\">\n",
       "  <thead>\n",
       "    <tr style=\"text-align: right;\">\n",
       "      <th></th>\n",
       "      <th>Plate ID</th>\n",
       "      <th>Registration State</th>\n",
       "      <th>Vehicle Make</th>\n",
       "      <th>Violation Time</th>\n",
       "      <th>Street Name</th>\n",
       "      <th>Vehicle Color</th>\n",
       "    </tr>\n",
       "  </thead>\n",
       "  <tbody>\n",
       "    <tr>\n",
       "      <th>0</th>\n",
       "      <td>KGK6659</td>\n",
       "      <td>NY</td>\n",
       "      <td>BMW</td>\n",
       "      <td>0637P</td>\n",
       "      <td>WB ATLANTIC AVE @ SH</td>\n",
       "      <td>GY</td>\n",
       "    </tr>\n",
       "    <tr>\n",
       "      <th>1</th>\n",
       "      <td>L5232HY</td>\n",
       "      <td>TN</td>\n",
       "      <td>INTER</td>\n",
       "      <td>0853A</td>\n",
       "      <td>Rockaway Beach Blvd</td>\n",
       "      <td>WHITE</td>\n",
       "    </tr>\n",
       "    <tr>\n",
       "      <th>2</th>\n",
       "      <td>BPMN76</td>\n",
       "      <td>FL</td>\n",
       "      <td>NISSA</td>\n",
       "      <td>0853A</td>\n",
       "      <td>W 113th St</td>\n",
       "      <td>BLACK</td>\n",
       "    </tr>\n",
       "    <tr>\n",
       "      <th>3</th>\n",
       "      <td>57387MJ</td>\n",
       "      <td>NY</td>\n",
       "      <td>NaN</td>\n",
       "      <td>0444P</td>\n",
       "      <td>W 33rd St</td>\n",
       "      <td>WH</td>\n",
       "    </tr>\n",
       "    <tr>\n",
       "      <th>4</th>\n",
       "      <td>M81KFJ</td>\n",
       "      <td>NJ</td>\n",
       "      <td>TOYOT</td>\n",
       "      <td>0723A</td>\n",
       "      <td>WB FOSTER AVE @ E 18</td>\n",
       "      <td>NaN</td>\n",
       "    </tr>\n",
       "  </tbody>\n",
       "</table>\n",
       "</div>"
      ],
      "text/plain": [
       "  Plate ID Registration State Vehicle Make Violation Time  \\\n",
       "0  KGK6659                 NY          BMW          0637P   \n",
       "1  L5232HY                 TN        INTER          0853A   \n",
       "2   BPMN76                 FL        NISSA          0853A   \n",
       "3  57387MJ                 NY          NaN          0444P   \n",
       "4   M81KFJ                 NJ        TOYOT          0723A   \n",
       "\n",
       "            Street Name Vehicle Color  \n",
       "0  WB ATLANTIC AVE @ SH            GY  \n",
       "1   Rockaway Beach Blvd         WHITE  \n",
       "2            W 113th St         BLACK  \n",
       "3             W 33rd St            WH  \n",
       "4  WB FOSTER AVE @ E 18           NaN  "
      ]
     },
     "execution_count": 16,
     "metadata": {},
     "output_type": "execute_result"
    }
   ],
   "source": [
    "nyc_violations_df.head()"
   ]
  },
  {
   "cell_type": "code",
   "execution_count": 9,
   "id": "9b07be8b",
   "metadata": {},
   "outputs": [],
   "source": [
    "new_violations_df=nyc_violations_df.dropna(subset=\n",
    "                                           ['Plate ID','Registration State','Street Name'])"
   ]
  },
  {
   "cell_type": "code",
   "execution_count": 12,
   "id": "0a4064c3",
   "metadata": {},
   "outputs": [
    {
     "name": "stdout",
     "output_type": "stream",
     "text": [
      "the number of deleted rows are: 5\n",
      "Money lost by New York due to misssing data is $: 500\n"
     ]
    }
   ],
   "source": [
    "del_rows=nyc_violations_df.shape[0]-new_violations_df.shape[0]\n",
    "print(f\"the number of deleted rows are: {del_rows}\")\n",
    "print(f\"Money lost by New York due to misssing data is $: {del_rows*100}\")"
   ]
  },
  {
   "cell_type": "code",
   "execution_count": null,
   "id": "56b89b99",
   "metadata": {},
   "outputs": [],
   "source": []
  }
 ],
 "metadata": {
  "kernelspec": {
   "display_name": "Python 3 (ipykernel)",
   "language": "python",
   "name": "python3"
  },
  "language_info": {
   "codemirror_mode": {
    "name": "ipython",
    "version": 3
   },
   "file_extension": ".py",
   "mimetype": "text/x-python",
   "name": "python",
   "nbconvert_exporter": "python",
   "pygments_lexer": "ipython3",
   "version": "3.9.12"
  }
 },
 "nbformat": 4,
 "nbformat_minor": 5
}
